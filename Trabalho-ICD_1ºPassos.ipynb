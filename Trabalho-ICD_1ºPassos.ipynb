{
 "cells": [
  {
   "cell_type": "markdown",
   "metadata": {},
   "source": [
    "## O dataset 'babies.csv' pode ser encontrado nesse link para download:"
   ]
  },
  {
   "cell_type": "markdown",
   "metadata": {},
   "source": [
    "[https://www.openintro.org/data/index.php?data=babies](https://www.openintro.org/data/index.php?data=babies)."
   ]
  },
  {
   "cell_type": "markdown",
   "metadata": {},
   "source": [
    "### Variáveis: \n",
    "\n",
    "case - id number\n",
    "\n",
    "bwt - birthweight, in ounces\n",
    "\n",
    "gestation - length of gestation, in days\n",
    "\n",
    "parity - binary indicator for a first pregnancy (0=first pregnancy)\n",
    "\n",
    "age - mother's age in years\n",
    "\n",
    "height - mother's height in inches\n",
    "\n",
    "weight - mother's weight in pounds\n",
    "\n",
    "smoke - binary indicator for whether the mother smokes"
   ]
  },
  {
   "cell_type": "markdown",
   "metadata": {},
   "source": [
    "## 1º PERGUNTA:\n",
    "\n",
    "\n",
    "Quantos bebês de mães fumantes tiveram o peso de nascimento abaixo da média?\n"
   ]
  },
  {
   "cell_type": "code",
   "execution_count": 1,
   "metadata": {},
   "outputs": [
    {
     "name": "stdout",
     "output_type": "stream",
     "text": [
      " 302 bebês de mães fumantes nasceram com o peso abaixo da média.\n"
     ]
    }
   ],
   "source": [
    "import pandas as pd\n",
    "import numpy as np\n",
    "\n",
    "babies = pd.read_csv(\"babies.csv\")\n",
    "\n",
    "media_peso_bebes = np.mean(babies[\"bwt\"])\n",
    "\n",
    "\n",
    "babies_bwt_smoke = babies[[\"bwt\", \"smoke\"]]\n",
    "\n",
    "cont_babies_mom_smoker = 0\n",
    "\n",
    "for i in range(len(babies)):\n",
    "    \n",
    "    if(babies_bwt_smoke.iloc[i,1] == 1.0):\n",
    "        if(babies_bwt_smoke.iloc[i,0] < media_peso_bebes):\n",
    "            cont_babies_mom_smoker += 1\n",
    "        \n",
    "        else:\n",
    "            continue\n",
    "    \n",
    "    else:\n",
    "        continue\n",
    "\n",
    "\n",
    "print(\" {} bebês de mães fumantes nasceram com o peso abaixo da média.\" .format(cont_babies_mom_smoker))"
   ]
  },
  {
   "cell_type": "markdown",
   "metadata": {},
   "source": [
    "## 2º PERGUNTA:\n",
    "\n",
    "Quantas mães com a idade abaixo da média tiveram sua primeira gravidez?\n",
    "\n",
    "\n"
   ]
  },
  {
   "cell_type": "code",
   "execution_count": 2,
   "metadata": {},
   "outputs": [
    {
     "name": "stdout",
     "output_type": "stream",
     "text": [
      "921 mães com a idade abaixo da média tiveram sua primeira gravidez.\n"
     ]
    }
   ],
   "source": [
    "media_idade_maes = np.mean(babies[\"age\"])\n",
    "\n",
    "babies_idade_gravidez = babies[[\"parity\", \"age\"]]\n",
    "\n",
    "cont_idade_gravidez = 0\n",
    "\n",
    "for i in range(len(babies)):\n",
    "    \n",
    "    if(babies_idade_gravidez.iloc[i,0] == 0):\n",
    "        if(babies_idade_gravidez.iloc[0,1] < media_idade_maes):\n",
    "            cont_idade_gravidez +=1\n",
    "            \n",
    "        else:\n",
    "            continue\n",
    "    else:\n",
    "        continue\n",
    "            \n",
    "print(\"{} mães com a idade abaixo da média tiveram sua primeira gravidez.\" .format(cont_idade_gravidez))\n",
    "\n",
    "\n",
    "\n"
   ]
  },
  {
   "cell_type": "markdown",
   "metadata": {},
   "source": [
    "## 3º PERGUNTA:\n",
    "\n",
    "Quantos bebês nasceram prematuramente? Levando em consideração que um bebê considerado prematuro \n",
    "nasce antes da 37ª semana de gestação."
   ]
  },
  {
   "cell_type": "code",
   "execution_count": 3,
   "metadata": {},
   "outputs": [
    {
     "name": "stdout",
     "output_type": "stream",
     "text": [
      "97 bebês nasceram prematuramente.\n"
     ]
    }
   ],
   "source": [
    "prematuro_media_dias = 37*7\n",
    "\n",
    "babies_gestation_indays = babies[[\"gestation\"]]\n",
    "\n",
    "cont_babies_prematuros = 0\n",
    "\n",
    "for i in range(len(babies)):\n",
    "    \n",
    "    if(babies_gestation_indays.iloc[i,0] < prematuro_media_dias):\n",
    "        cont_babies_prematuros += 1\n",
    "    \n",
    "    else:\n",
    "        continue\n",
    "\n",
    "print(\"{} bebês nasceram prematuramente.\" .format(cont_babies_prematuros))\n",
    "\n"
   ]
  },
  {
   "cell_type": "markdown",
   "metadata": {},
   "source": [
    "## 4º PERGUNTA\n",
    "\n",
    "Qual é a correlação entre o peso de nascimento do bebê e o peso da mãe em ounces(medida de peso dos bebês)?"
   ]
  },
  {
   "cell_type": "code",
   "execution_count": null,
   "metadata": {},
   "outputs": [],
   "source": []
  },
  {
   "cell_type": "markdown",
   "metadata": {},
   "source": [
    "## 5º PERGUNTA:"
   ]
  },
  {
   "cell_type": "markdown",
   "metadata": {},
   "source": [
    "Qual é a correlação entre a idade da mãe e o fato desta ser fumante ou não?"
   ]
  },
  {
   "cell_type": "code",
   "execution_count": 52,
   "metadata": {},
   "outputs": [
    {
     "name": "stdout",
     "output_type": "stream",
     "text": [
      "A porcentagem das mães acima da média (27): 0.42\n",
      "A porcentagem das mães abaixo ou igual a média (27): 0.58\n",
      "A correlação entre a idade das mães e o fato delas serem fumantes ou não: -0.07\n",
      "A correlação entre a as mães com idade acima da média e o fato delas serem fumantes ou não: -0.08\n",
      "A correlação entre a as mães com idade abaixo ou semelhante a média e o fato delas serem fumantes ou não: -0.06\n"
     ]
    }
   ],
   "source": [
    "print('A porcentagem das mães acima da média ({}): {}'.format(round(babies['age'].mean()),round(len(babies[babies['age'] > babies['age'].mean()])/len(babies),2)))\n",
    "print('A porcentagem das mães abaixo ou igual a média ({}): {}'.format(round(babies['age'].mean()),round(len(babies[babies['age'] <= babies['age'].mean()])/len(babies),2)))\n",
    "print('A correlação entre a idade das mães e o fato delas serem fumantes ou não: {}'.format(round(babies['age'].corr(babies['smoke']),2)))\n",
    "print('A correlação entre a as mães com idade acima da média e o fato delas serem fumantes ou não: {}'.format(round(babies[babies['age'] > babies['age'].mean()]['age'].corr(babies[babies['age'] > babies['age'].mean()]['smoke']),2)))\n",
    "print('A correlação entre a as mães com idade abaixo ou semelhante a média e o fato delas serem fumantes ou não: {}'.format(round(babies[babies['age'] <= babies['age'].mean()]['age'].corr(babies[babies['age'] <= babies['age'].mean()]['smoke']),2)))"
   ]
  },
  {
   "cell_type": "markdown",
   "metadata": {},
   "source": [
    "## 6º PERGUNTA: "
   ]
  },
  {
   "cell_type": "markdown",
   "metadata": {},
   "source": [
    "Qual a correlação entre o peso ao nascer e a duração da gestação?"
   ]
  },
  {
   "cell_type": "code",
   "execution_count": 57,
   "metadata": {},
   "outputs": [
    {
     "name": "stdout",
     "output_type": "stream",
     "text": [
      "A correlação entre o peso ao nascer e a duração da gestação é: 0.41\n",
      "A correlação entre o peso ao nascer e a duração da gestação de mães fumantes é: 0.49\n",
      "A correlação entre o peso ao nascer e a duração da gestação de mães não fumantes é: 0.35\n"
     ]
    }
   ],
   "source": [
    "print('A correlação entre o peso ao nascer e a duração da gestação é: {}'.format(round(babies['bwt'].corr(babies['gestation']),2)))\n",
    "print('A correlação entre o peso ao nascer e a duração da gestação de mães fumantes é: {}'.format(round(babies[babies['smoke']==1]['bwt'].corr(babies[babies['smoke']==1]['gestation']),2)))\n",
    "print('A correlação entre o peso ao nascer e a duração da gestação de mães não fumantes é: {}'.format(round(babies[babies['smoke']==0]['bwt'].corr(babies[babies['smoke']==0]['gestation']),2)))"
   ]
  }
 ],
 "metadata": {
  "kernelspec": {
   "display_name": "Python 3",
   "language": "python",
   "name": "python3"
  },
  "language_info": {
   "codemirror_mode": {
    "name": "ipython",
    "version": 3
   },
   "file_extension": ".py",
   "mimetype": "text/x-python",
   "name": "python",
   "nbconvert_exporter": "python",
   "pygments_lexer": "ipython3",
   "version": "3.7.3"
  }
 },
 "nbformat": 4,
 "nbformat_minor": 4
}
